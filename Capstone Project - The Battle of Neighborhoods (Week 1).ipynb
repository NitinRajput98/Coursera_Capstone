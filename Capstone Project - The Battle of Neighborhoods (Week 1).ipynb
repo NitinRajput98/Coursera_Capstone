{
 "cells": [
  {
   "cell_type": "markdown",
   "metadata": {},
   "source": [
    "# Capstone Project - The Battle of Neighborhoods (Week 1)"
   ]
  },
  {
   "cell_type": "markdown",
   "metadata": {},
   "source": [
    "## INTRODUCTION"
   ]
  },
  {
   "cell_type": "markdown",
   "metadata": {},
   "source": [
    "In previous modules, we explored New York City and the city of Toronto and segmented and clustered their neighborhoods. Both cities are very diverse and are the financial capitals of their respective countries. One interesting idea is to compare the neighborhoods of the two cities and determine how similar or dissimilar they are. Is New York City more like Toronto or not?\n",
    "\n",
    "\n",
    "Now, why are we comparing the two cities?\n",
    "To solve the problem defined below:\n",
    "Let's consider an employee that is currently working in an organization in New York City and he is promoted but is given a position in the same organization but in the city of Toronto. So, thus he has to shift from one city to another. \n",
    "Now we all know how difficult or tedious it is to find a similar environment that you have been living in again. If this process is done manually it would take weeks of research and understanding of other cities, which concludes to be a very hectic task. So to ease this process of shifting and finding a similar neighborhood in the city of Toronto we are going to use a **k-means** machine learning algorithm to cluster the neighborhoods and **Foursquare** location data to explore a particular neighbourhood to solve this problem easily."
   ]
  },
  {
   "cell_type": "markdown",
   "metadata": {},
   "source": [
    "# DATA "
   ]
  },
  {
   "cell_type": "markdown",
   "metadata": {},
   "source": [
    "So to solve this problem we are going to use location data provided by Foursquare.\n",
    "We converted addresses into their equivalent latitude and longitude values. \n",
    "Also, we have used the Foursquare API to explore neighborhoods in Toronto and New York City.\n",
    "We have used the explore function to get the most common venue categories in each neighborhood, \n",
    "and then used this feature to group the neighborhoods into clusters.\n",
    "\n",
    "**1.) New York City**\n",
    "\n",
    "New York City has a total of 5 boroughs and 306 neighborhoods. In order to segement the neighborhoods and explore them, we will essentially need a dataset that contains the 5 boroughs and the neighborhoods that exist in each borough as well as the the latitude and logitude coordinates of each neighborhood.\n",
    "\n",
    "Luckily, this dataset exists for free on the web, here is the link to the dataset: https://geo.nyu.edu/catalog/nyu_2451_34572\n",
    "\n",
    "**2.) Toronto**\n",
    "\n",
    "Unlike New York, the neighborhood data is not readily available on the internet.\n",
    "For the Toronto neighborhood data, a Wikipedia page exists that has all the information we need to explore and cluster the neighborhoods in Toronto. We will be required to scrape the Wikipedia page and wrangle the data, clean it, and then read it into a pandas dataframe so that it is in a structured format like the New York dataset.\n",
    "Link to wikipedia page containing data regarding city of Toronto : https://en.wikipedia.org/wiki/List_of_postal_codes_of_Canada:_M\n",
    "\n",
    "**3.) Foursquare Location Data**\n",
    "\n",
    "To explore each neighbourhood we are going to use Foursquare API to explore most common venues in each neighborhood and then used this feature to group the neighborhoods into clusters."
   ]
  },
  {
   "cell_type": "code",
   "execution_count": null,
   "metadata": {},
   "outputs": [],
   "source": []
  }
 ],
 "metadata": {
  "kernelspec": {
   "display_name": "Python 3",
   "language": "python",
   "name": "python3"
  },
  "language_info": {
   "codemirror_mode": {
    "name": "ipython",
    "version": 3
   },
   "file_extension": ".py",
   "mimetype": "text/x-python",
   "name": "python",
   "nbconvert_exporter": "python",
   "pygments_lexer": "ipython3",
   "version": "3.7.6"
  }
 },
 "nbformat": 4,
 "nbformat_minor": 4
}
